{
 "cells": [
  {
   "cell_type": "markdown",
   "metadata": {
    "collapsed": true
   },
   "source": [
    "# The Battle of Neighborhoods"
   ]
  },
  {
   "cell_type": "markdown",
   "metadata": {},
   "source": [
    "#### Pirjo Havia"
   ]
  },
  {
   "cell_type": "markdown",
   "metadata": {},
   "source": [
    "#### Applied Data Science Capstone Coursera"
   ]
  },
  {
   "cell_type": "markdown",
   "metadata": {},
   "source": [
    "### Introduction: Business Problem of knowledge of neighborhoods for a new restaurant business"
   ]
  },
  {
   "cell_type": "markdown",
   "metadata": {},
   "source": [
    "#### My cousin lives in Finland in a quite small town which has approximately only 10000 inhabitants. He has there a restaurant which has operated mainly as a lunch restaurant. My cousin has several times told that he would like to open a restaurant in Helsinki where are many more inhabitants.\n",
    "\n",
    "Up to this point he has succeeded with his restaurant in that small town. When Finnish government decided to close all restaurants until the end of May because of COVID-19, my cousin also had to close his restaurant. Now at this moment it seems that this kind of business is slowly recovering but in that small town where my cousin lives, recovering will take too long time. My cousin decided that now it is time to make that big decision to open a restaurant in Helsinki. He knows that the competition will be fierce, when the restaurants which are now closed, will open at about the same time.\n",
    "\n",
    "My cousin is certainly not the only one who wants to start new restaurant business. This analysis is a good addition for decision making.\n",
    "\n",
    "To succeed the restaurant should be in a neighborhood where population will grow at least 10000 inhabitants until year 2030, not too many competitors in the same neighborhood at this time, and it would also help if the transport connections are good."
   ]
  }
 ],
 "metadata": {
  "kernelspec": {
   "display_name": "Python 3.6",
   "language": "python",
   "name": "python3"
  },
  "language_info": {
   "codemirror_mode": {
    "name": "ipython",
    "version": 3
   },
   "file_extension": ".py",
   "mimetype": "text/x-python",
   "name": "python",
   "nbconvert_exporter": "python",
   "pygments_lexer": "ipython3",
   "version": "3.6.9"
  }
 },
 "nbformat": 4,
 "nbformat_minor": 1
}
