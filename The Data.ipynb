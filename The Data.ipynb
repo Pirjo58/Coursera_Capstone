{
 "cells": [
  {
   "cell_type": "markdown",
   "metadata": {
    "collapsed": true
   },
   "source": [
    "### Data"
   ]
  },
  {
   "cell_type": "markdown",
   "metadata": {},
   "source": [
    "Based on definition of my cousin’s problem, factors that will help him to decide are:\n",
    "\n",
    "• All venues of neighborhood area through Foursquare API.     \n",
    "• Top venue categories in neighborhoods        \n",
    "• The amount of competitors        \n",
    "• Growth of population is minimum 10000      \n",
    "\n",
    "Following data sources will be needed to generate the required information:\n",
    "\n",
    "• Wikipedia page of Helsinki neighborhoods https://fi.wikipedia.org/wiki/Helsingin_alueellinen_jako      \n",
    "• Geolocator to get coordinates of neighborhoods         \n",
    "• A sample of a study of Helsinki population growth from year 2019 to year 2030, Helsinki population growth research https://www.hel.fi/hel2/tietokeskus/julkaisut/pdf/18_10_30_Tilastoja_18_Vuori_Kaasila.pdf\n",
    "\n",
    "The explore function is used to get the most common venue categories in each neighborhood of Helsinki. Also clustering neighborhoods is used to give similarity information to my cousin."
   ]
  }
 ],
 "metadata": {
  "kernelspec": {
   "display_name": "Python 3.6",
   "language": "python",
   "name": "python3"
  },
  "language_info": {
   "codemirror_mode": {
    "name": "ipython",
    "version": 3
   },
   "file_extension": ".py",
   "mimetype": "text/x-python",
   "name": "python",
   "nbconvert_exporter": "python",
   "pygments_lexer": "ipython3",
   "version": "3.6.9"
  }
 },
 "nbformat": 4,
 "nbformat_minor": 1
}
